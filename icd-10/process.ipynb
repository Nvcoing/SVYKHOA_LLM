{
 "cells": [
  {
   "cell_type": "code",
   "execution_count": 14,
   "id": "cb756f2f",
   "metadata": {},
   "outputs": [],
   "source": [
    "import pandas as pd\n",
    "\n",
    "# Đường dẫn tới file Excel\n",
    "excel_path = \"icd10.xlsx\"\n",
    "\n",
    "# Đọc dữ liệu với dòng tiêu đề ở hàng thứ 2 (index = 1)\n",
    "df = pd.read_excel(excel_path, sheet_name=\"ICD10\", header=2)\n",
    "df = df[[\"STT CHƯƠNG\", \"MÃ CHƯƠNG\",\"TÊN NHÓM CHÍNH\",\"MÃ BỆNH\",\"TÊN BỆNH\"]]\n",
    "# Xem vài dòng đầu\n",
    "df.to_excel(\"icd10_processed.xlsx\", index=False)\n"
   ]
  }
 ],
 "metadata": {
  "kernelspec": {
   "display_name": "AI",
   "language": "python",
   "name": "python3"
  },
  "language_info": {
   "codemirror_mode": {
    "name": "ipython",
    "version": 3
   },
   "file_extension": ".py",
   "mimetype": "text/x-python",
   "name": "python",
   "nbconvert_exporter": "python",
   "pygments_lexer": "ipython3",
   "version": "3.12.7"
  }
 },
 "nbformat": 4,
 "nbformat_minor": 5
}
