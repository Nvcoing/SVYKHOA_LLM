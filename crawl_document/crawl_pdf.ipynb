{
 "cells": [
  {
   "cell_type": "code",
   "execution_count": null,
   "id": "da278fcd",
   "metadata": {},
   "outputs": [
    {
     "name": "stdout",
     "output_type": "stream",
     "text": [
      "Đã tải xuống: https://www.mdpi.com/2077-0383/8/8/1176/pdf?version=1565152207\n",
      "Đã tải xuống: https://www.mdpi.com/2077-0383/9/8/2567/pdf?version=1596805406\n",
      "Đã tải xuống: https://www.mdpi.com/2077-0383/11/2/400/pdf?version=1642127287\n",
      "Đã tải xuống: https://www.mdpi.com/2077-0383/11/20/6013/pdf?version=1665572838\n",
      "Đã tải xuống: https://www.mdpi.com/2077-0383/6/7/63/pdf?version=1498376004\n",
      "Đã tải xuống: https://www.mdpi.com/2077-0383/9/2/495/pdf?version=1582955988\n"
     ]
    }
   ],
   "source": [
    "from selenium import webdriver\n",
    "from selenium.webdriver.chrome.options import Options\n",
    "import os\n",
    "from openpyxl import load_workbook\n",
    "import time\n",
    "\n",
    "# Thư mục lưu PDF\n",
    "output_dir = os.path.join(os.getcwd(), \"Doccument_mdpi_Medical_Journal\")\n",
    "if not os.path.exists(output_dir):\n",
    "    os.makedirs(output_dir)\n",
    "\n",
    "# Cài đặt Chrome headless với thư mục download\n",
    "chrome_options = Options()\n",
    "chrome_options.add_argument(\"--headless\")\n",
    "chrome_options.add_argument(\"--disable-gpu\")\n",
    "prefs = {\n",
    "    \"download.default_directory\": output_dir,  # thư mục lưu PDF\n",
    "    \"plugins.always_open_pdf_externally\": True  # mở PDF bên ngoài Chrome, để auto download\n",
    "}\n",
    "chrome_options.add_experimental_option(\"prefs\", prefs)\n",
    "\n",
    "driver = webdriver.Chrome(options=chrome_options)\n",
    "\n",
    "# Đọc Excel\n",
    "wb = load_workbook('2_mdpi.xlsx')\n",
    "ws = wb.active\n",
    "\n",
    "# Tìm cột 'download-href'\n",
    "col_index = None\n",
    "for idx, cell in enumerate(ws[1], start=1):\n",
    "    if cell.value and cell.value.strip().lower() == 'download-href':\n",
    "        col_index = idx\n",
    "        break\n",
    "if col_index is None:\n",
    "    raise ValueError(\"Không tìm thấy cột 'download-href'\")\n",
    "\n",
    "# Duyệt URL PDF và tải\n",
    "for row in ws.iter_rows(min_row=2):\n",
    "    url = row[col_index-1].value\n",
    "    if url:\n",
    "        url = url.strip()\n",
    "        driver.get(url)\n",
    "        time.sleep(5)  # đợi PDF tải về\n",
    "        print(f\"Đã tải xuống: {url}\")\n",
    "\n",
    "driver.quit()\n",
    "print(f\"Tất cả PDF đã được lưu vào thư mục: {output_dir}\")\n"
   ]
  },
  {
   "cell_type": "code",
   "execution_count": 10,
   "id": "77c75353",
   "metadata": {},
   "outputs": [
    {
     "data": {
      "text/plain": [
       "web-scraper-order        0\n",
       "web-scraper-start-url    0\n",
       "Tập                      0\n",
       "Tập-href                 0\n",
       "Tiêu đề                  0\n",
       "Tiêu đề-href             0\n",
       "PDF                      0\n",
       "PDF-href                 0\n",
       "download_pdf             0\n",
       "download_pdf-href        0\n",
       "dtype: int64"
      ]
     },
     "execution_count": 10,
     "metadata": {},
     "output_type": "execute_result"
    }
   ],
   "source": [
    "df = pd.read_excel(r\"D:\\Folder_HocTap\\Đồ án tốt nghiệp\\Code\\Thesis_FineTune_MoE_ChatBotDental\\Dataset\\Viet_Nam_Medical_Journal\\trang3.xlsx\")\n",
    "df=df.dropna()\n",
    "df.isna().sum()"
   ]
  }
 ],
 "metadata": {
  "kernelspec": {
   "display_name": "Python 3",
   "language": "python",
   "name": "python3"
  },
  "language_info": {
   "codemirror_mode": {
    "name": "ipython",
    "version": 3
   },
   "file_extension": ".py",
   "mimetype": "text/x-python",
   "name": "python",
   "nbconvert_exporter": "python",
   "pygments_lexer": "ipython3",
   "version": "3.12.7"
  }
 },
 "nbformat": 4,
 "nbformat_minor": 5
}
